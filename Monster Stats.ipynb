{
 "cells": [
  {
   "cell_type": "code",
   "execution_count": 1,
   "id": "smart-insurance",
   "metadata": {},
   "outputs": [],
   "source": [
    "def calculate_monster_health(player_damage, player_to_hit, monster_armor):\n",
    "  #How long should the combat last\n",
    "  rounds_until_player_victory = 2.5\n",
    "  #How many players are in the party\n",
    "  party_size = 4\n",
    "  #How many attacks should players have to make\n",
    "  #before th monsters are defeated\n",
    "  attacks_until_defeat = 10\n",
    "  return 10 * player_damage * (20 - (monster_armor - player_to_hit)) * .05\n",
    "\n",
    "#Player hit percentage is how often you want the players to hit the monster\n",
    "def calculate_monster_armor(player_to_hit, chance_to_hit):\n",
    "  return player_to_hit + 20 - 20 * chance_to_hit\n",
    "\n",
    "def calculate_monster_health_and_armor(player_damage, player_to_hit, chance_to_hit):\n",
    "  monster_armor = calculate_monster_armor(player_to_hit, chance_to_hit)\n",
    "  monster_health = calculate_monster_health(player_damage, player_to_hit, monster_armor)\n",
    "  return monster_health, monster_armor\n",
    "\n",
    "\n",
    "assert(calculate_monster_health(10, 8, 20) == 40)\n",
    "assert(calculate_monster_armor(8, .4) == 20)\n",
    "assert(calculate_monster_health_and_armor(10, 8, .4) == (40, 20))"
   ]
  },
  {
   "cell_type": "code",
   "execution_count": 2,
   "id": "native-segment",
   "metadata": {},
   "outputs": [],
   "source": [
    "def calculate_monster_to_hit(player_armor, monster_hit_chance):\n",
    "  return player_armor - 20 + 20 * monster_hit_chance\n",
    "  # return int((player_armor - 10) / monster_hit_chance)\n",
    "\n",
    "def calculate_monster_damage(party_health, monster_hit_chance):\n",
    "  rounds_until_monster_victory = 3\n",
    "  return int(party_health / (rounds_until_monster_victory * monster_hit_chance))\n",
    "\n",
    "assert(calculate_monster_to_hit(15, .5) == 5)\n",
    "assert(calculate_monster_to_hit(15, .8) == 11)\n",
    "assert(calculate_monster_damage(88, .6) == 48)"
   ]
  },
  {
   "cell_type": "code",
   "execution_count": 3,
   "id": "solid-floor",
   "metadata": {},
   "outputs": [],
   "source": [
    "def calculate_monster_stat_table(player_damages, player_to_hits, chance_to_hits, party_health, monster_chance_to_hit, player_armors):\n",
    "  assert(len(player_damages) == len(player_to_hits) == len(chance_to_hits) == len(party_health) == len(monster_chance_to_hit) == len(player_armors))\n",
    "  stats = zip(player_damages, player_to_hits, chance_to_hits, party_health, monster_chance_to_hit, player_armors)\n",
    "  monster_healths = []\n",
    "  monster_armors = []\n",
    "  monster_to_hits = []\n",
    "  monster_damages = []\n",
    "  for stat in stats:\n",
    "    monster_health, monster_armor = calculate_monster_health_and_armor(stat[0], stat[1], stat[2])\n",
    "    monster_healths.append(monster_health)\n",
    "    monster_armors.append(monster_armor)\n",
    "    monster_to_hits.append(calculate_monster_to_hit(stat[5], stat[4]))\n",
    "    monster_damages.append(calculate_monster_damage(stat[3], stat[4]))\n",
    "  monster_stats = dict()\n",
    "  monster_stats['health'] = monster_healths\n",
    "  monster_stats['armors'] = monster_armors\n",
    "  monster_stats['to_hit'] = monster_to_hits\n",
    "  monster_stats['damage'] = monster_damages\n",
    "  return monster_stats"
   ]
  },
  {
   "cell_type": "code",
   "execution_count": 17,
   "id": "exciting-penny",
   "metadata": {},
   "outputs": [],
   "source": [
    "player_damages = [12, 13, 14, 17, 20, 27, 27, 32, 37, 37]\n",
    "player_to_hits = [6, 7, 8, 8, 8, 10, 11, 11, 11, 11]\n",
    "chance_to_hits = [.6, .6, .6, .6, .6, .6, .55, .55, .55, .5]\n",
    "party_size = 4\n",
    "player_health = [20, 22, 24, 25, 27, 28, 30, 33, 35, 35]\n",
    "party_health = []\n",
    "for health in player_health:\n",
    "  party_health.append(health * party_size)\n",
    "monster_chance_to_hit = [.7, .7, .7, .7, .7, .7, .7, .7, .7, .7]\n",
    "player_armors = [14, 15, 16, 17, 18, 18, 19, 20, 20, 20]\n",
    "\n",
    "monster_stats = calculate_monster_stat_table(player_damages, player_to_hits, chance_to_hits, party_health, monster_chance_to_hit, player_armors)"
   ]
  },
  {
   "cell_type": "code",
   "execution_count": 24,
   "id": "enormous-encoding",
   "metadata": {},
   "outputs": [
    {
     "data": {
      "text/plain": [
       "[72.0, 78.0, 84.0, 102.0, 120.0, 162.0, 148.5, 176.0, 203.5, 185.0]"
      ]
     },
     "execution_count": 24,
     "metadata": {},
     "output_type": "execute_result"
    }
   ],
   "source": [
    "monster_stats['health']"
   ]
  },
  {
   "cell_type": "code",
   "execution_count": null,
   "id": "latest-black",
   "metadata": {},
   "outputs": [],
   "source": []
  }
 ],
 "metadata": {
  "kernelspec": {
   "display_name": "Python 3",
   "language": "python",
   "name": "python3"
  },
  "language_info": {
   "codemirror_mode": {
    "name": "ipython",
    "version": 3
   },
   "file_extension": ".py",
   "mimetype": "text/x-python",
   "name": "python",
   "nbconvert_exporter": "python",
   "pygments_lexer": "ipython3",
   "version": "3.8.6"
  }
 },
 "nbformat": 4,
 "nbformat_minor": 5
}
