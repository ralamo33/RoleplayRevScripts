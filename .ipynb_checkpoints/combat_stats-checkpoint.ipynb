{
 "cells": [
  {
   "cell_type": "markdown",
   "id": "fabulous-shape",
   "metadata": {},
   "source": [
    "# Combat stats\n",
    "This is to determine the average statistics for combat within the game. On average monsters should deal about 1/3 of the player's health in damage. They should instakill a player no more than 2% of the time.\n",
    "\n",
    "Monsters average stats are calculated using those advertised under Making Monsters. Players stats are calculated by a combination of what average stats would be, and expected equipment purchases (especially for armor)."
   ]
  },
  {
   "cell_type": "markdown",
   "id": "economic-publicity",
   "metadata": {},
   "source": [
    "## Set Averages\n",
    "The average stats for monsters and players by level."
   ]
  },
  {
   "cell_type": "code",
   "execution_count": 1,
   "id": "annual-banking",
   "metadata": {},
   "outputs": [],
   "source": [
    "def dice(rolls, sides):\n",
    "    return {\n",
    "        'rolls': rolls,\n",
    "        'sides': sides\n",
    "    }"
   ]
  },
  {
   "cell_type": "code",
   "execution_count": 2,
   "id": "confused-catalyst",
   "metadata": {},
   "outputs": [],
   "source": [
    "DAMAGE_DICE = {\n",
    "    1: [dice(1, 8), dice(1, 6)],\n",
    "    2: [dice(2, 8)],\n",
    "    3: [dice(1, 10), dice(1, 8)],\n",
    "    4: [dice(2, 12), dice(1, 4)],\n",
    "    5: [dice(2, 12), dice(1, 8)],\n",
    "    6: [dice(1, 20), dice(2, 8)],\n",
    "    7: [dice(2, 20)],\n",
    "    8: [dice(2, 20), dice(1, 8)],\n",
    "    9: [dice(2, 20), dice(1, 12)],\n",
    "    10:[dice(3, 20)]\n",
    "    \n",
    "}\n",
    "\n",
    "player_damage_dice = [dice(1, 10), dice(1, 4)]\n",
    "\n",
    "MONSTER_ATTACK_BONUS = {\n",
    "    1: 4,\n",
    "    2: 4,\n",
    "    3: 5,\n",
    "    4: 7,\n",
    "    5: 7,\n",
    "    6: 9,\n",
    "    7: 12,\n",
    "    8: 12,\n",
    "    9: 13,\n",
    "    10: 14\n",
    "}"
   ]
  },
  {
   "cell_type": "code",
   "execution_count": 3,
   "id": "acting-lesbian",
   "metadata": {},
   "outputs": [],
   "source": [
    "MONSTER_ARMOR = {\n",
    "    1: 8,\n",
    "    2: 9,\n",
    "    3: 11,\n",
    "    4: 13,\n",
    "    5: 16,\n",
    "    6: 18,\n",
    "    7: 21,\n",
    "    8: 23,\n",
    "    9: 26,\n",
    "    10: 28\n",
    "}\n",
    "\n",
    "MONSTER_HEALTH = {\n",
    "    1: 21,\n",
    "    2: 26,\n",
    "    3: 30,\n",
    "    4: 34,\n",
    "    5: 38,\n",
    "    6: 42,\n",
    "    7: 45,\n",
    "    8: 48,\n",
    "    9: 50,\n",
    "    10: 55\n",
    "}"
   ]
  },
  {
   "cell_type": "code",
   "execution_count": 4,
   "id": "scientific-washer",
   "metadata": {},
   "outputs": [],
   "source": [
    "def check_pos_int(values):\n",
    "    \"\"\"Check if a value is a positive integer\n",
    "    \n",
    "    Args:\n",
    "        values: (List) values to be checked for validity\n",
    "    \"\"\"\n",
    "    for value in values:\n",
    "        assert value >= 0, 'Value must be a nonnegative integer'\n",
    "\n",
    "check_pos_int([1, 2, 3])"
   ]
  },
  {
   "cell_type": "code",
   "execution_count": 5,
   "id": "occupied-stuff",
   "metadata": {},
   "outputs": [],
   "source": [
    "def player_health(level):\n",
    "    check_pos_int([level])\n",
    "    level_ups = level - 1\n",
    "    health = 15\n",
    "    health += level_ups * 3\n",
    "    health += 5 * int(level_ups / 3)\n",
    "    return health\n",
    "\n",
    "assert(player_health(1) == 15)\n",
    "assert(player_health(2) == 18)\n",
    "assert(player_health(4) == 29)\n",
    "assert(player_health(9) == 49)\n",
    "assert(player_health(10) == 57)"
   ]
  },
  {
   "cell_type": "code",
   "execution_count": 6,
   "id": "declared-stream",
   "metadata": {},
   "outputs": [],
   "source": [
    "def player_armor(level):\n",
    "    check_pos_int([level])\n",
    "    if level <= 3:\n",
    "        return 9\n",
    "    if level <= 5:\n",
    "        return 14\n",
    "    if level <= 6:\n",
    "        return 15\n",
    "    if level <= 7:\n",
    "        return 16\n",
    "    return 19\n",
    "    \n",
    "assert(player_armor(1) == 9)\n",
    "assert(player_armor(3) == 9)\n",
    "assert(player_armor(6) == 15)\n",
    "assert(player_armor(9) == 19)"
   ]
  },
  {
   "cell_type": "markdown",
   "id": "spectacular-copper",
   "metadata": {},
   "source": [
    "## Attack\n",
    "Functions needed to calculate the power of a monster attack."
   ]
  },
  {
   "cell_type": "code",
   "execution_count": 7,
   "id": "excited-colors",
   "metadata": {},
   "outputs": [],
   "source": [
    "import random\n",
    "\n",
    "def get_attack(damage_dice, bonus):\n",
    "    \"\"\" calculate the power of an attack\n",
    "    \n",
    "    Args:\n",
    "        damage_dice (list of damage_die): The dice to be rolled\n",
    "        bonus (int): The static bonus added to attacks     \n",
    "    \n",
    "    Return: (int) power of an attack\n",
    "    \"\"\"\n",
    "    check_pos_int([bonus])\n",
    "    total = 0\n",
    "    largest_maxed = 0\n",
    "    for damage_die in damage_dice:\n",
    "        sides = damage_die['sides']\n",
    "        for i in range(damage_die['rolls']):\n",
    "            roll = random.randint(1, sides)\n",
    "            total += roll\n",
    "            if roll == sides:\n",
    "                largest_maxed = max(largest_maxed, sides)\n",
    "    if largest_maxed > 0:\n",
    "       total += random.randint(1, largest_maxed) \n",
    "    return total + bonus\n",
    "\n",
    "for i in range (1000):\n",
    "    assert(get_attack([dice(1, 4)], 0) in range(1,9))\n",
    "    assert(get_attack([dice(2, 6)], 0) in range(2,25))\n",
    "    assert(get_attack([dice(1, 8)], 0) in range(1,17))\n",
    "    assert(get_attack([dice(2, 12)], 0) in range(2,49))"
   ]
  },
  {
   "cell_type": "code",
   "execution_count": 8,
   "id": "solar-solid",
   "metadata": {},
   "outputs": [],
   "source": [
    "def damage_percentage(attack, level):\n",
    "    \"\"\"Calculate the percentage of health lost\n",
    "    \n",
    "    Args:\n",
    "        All are positive ints\n",
    "        \n",
    "    Returns:\n",
    "        Health remaining after the attack\n",
    "    \"\"\"\n",
    "    check_pos_int([attack, level])\n",
    "    armor = player_armor(level)\n",
    "    health = player_health(level)\n",
    "    if attack <= armor:\n",
    "        return 0\n",
    "    damage = attack - armor\n",
    "    if damage >= health:\n",
    "        return 100\n",
    "    return (damage / health) * 100\n",
    "\n",
    "assert(damage_percentage(12, 1) == 20)\n",
    "assert(damage_percentage(18, 1) == 60)\n",
    "assert(damage_percentage(38, 5) == 75)\n",
    "assert(damage_percentage(42, 8) == 50)"
   ]
  },
  {
   "cell_type": "code",
   "execution_count": 11,
   "id": "capital-drunk",
   "metadata": {},
   "outputs": [],
   "source": [
    "def combat_stats(level):\n",
    "    '''\n",
    "    Calculate the stats of combat.\n",
    "    \n",
    "    Args:\n",
    "        Level (int)\n",
    "    \n",
    "    Return: (list of float) [average damage dealt, hits that one shotted player, misses]\n",
    "    '''\n",
    "    total_damage_percent = 0\n",
    "    instakills = 0\n",
    "    missed = 0\n",
    "    iterations = 100000\n",
    "    for i in range(iterations):\n",
    "        attack = get_attack(DAMAGE_DICE[level],\n",
    "                       MONSTER_ATTACK_BONUS[level])\n",
    "        damage_percent = damage_percentage(attack, level)\n",
    "        total_damage_percent += damage_percent\n",
    "        if damage_percent == 100:\n",
    "            instakills += 1\n",
    "        elif damage_percent == 0:\n",
    "            missed += 1\n",
    "    stats = [total_damage_percent, instakills, missed]\n",
    "    return [stat / iterations for stat in stats]"
   ]
  },
  {
   "cell_type": "code",
   "execution_count": 12,
   "id": "standard-stations",
   "metadata": {
    "scrolled": true
   },
   "outputs": [
    {
     "name": "stdout",
     "output_type": "stream",
     "text": [
      "[28.298733333332184, 0.01481, 0.20894]\n",
      "[28.89744444443725, 0.00758, 0.1558]\n",
      "[33.91104761905039, 0.01433, 0.07371]\n",
      "[34.877965517245435, 0.00731, 0.05378]\n",
      "[37.75621875, 0.00699, 0.03018]\n",
      "[42.7719142857135, 0.0237, 0.01582]\n",
      "[41.677372093019876, 0.02423, 0.0142]\n",
      "[43.3654130434806, 0.01954, 0.01069]\n",
      "[46.80416326530786, 0.02321, 0.00412]\n",
      "[48.857771929822505, 0.02176, 0.00138]\n"
     ]
    }
   ],
   "source": [
    "for level in range(1, 11):\n",
    "    print(combat_stats(level))"
   ]
  },
  {
   "cell_type": "markdown",
   "id": "becoming-cowboy",
   "metadata": {},
   "source": [
    "## Player Attack\n",
    "Determine the average power of a player's attack based on their level. Strangely enough, only a select few power cards actually increase the damage of a base attack, so it will be assumed that powers do not increase the base damage of the attack.\n",
    "Assumptions will be made about player stat progression, when players will be crowned in their martial skill, and when they will buy mastercrafted weapons. No other assumptions will be made.\n",
    "\n",
    "Currently, monster armor will be between the attack of 10% of player attacks and 25% of player attacks. Martial players will on average miss 20% and finesse 25% of their attacks. Specialized martial classes will basically never miss with their buffs active. Low armor buffs blade dancers."
   ]
  },
  {
   "cell_type": "code",
   "execution_count": 31,
   "id": "sustained-milton",
   "metadata": {},
   "outputs": [],
   "source": [
    "# Constants for player attack\n",
    "\n",
    "PLAYER_ATTACK_BONUS = {\n",
    "    1: 6,\n",
    "    2: 7,\n",
    "    3: 8,\n",
    "    4: 8,\n",
    "    5: 12,\n",
    "    6: 12,\n",
    "    7: 16,\n",
    "    8: 16,\n",
    "    9: 17,\n",
    "    10: 17\n",
    "}\n",
    "\n",
    "MARTIAL_ATTACK_DICE = [dice(1, 10), dice(1, 4)]\n",
    "FINESSE_ATTACK_DICE = [dice(1, 8), dice(1, 4)]"
   ]
  },
  {
   "cell_type": "code",
   "execution_count": 34,
   "id": "placed-curve",
   "metadata": {},
   "outputs": [
    {
     "name": "stdout",
     "output_type": "stream",
     "text": [
      "Level 1 players have attack average: 15 fifteen: 10 twenty-five: 12 seventy-five:17 ninety: 21 ninety_five: 24\n",
      "Level 2 players have attack average: 16 fifteen: 11 twenty-five: 13 seventy-five:18 ninety: 22 ninety_five: 25\n",
      "Level 3 players have attack average: 17 fifteen: 12 twenty-five: 14 seventy-five:19 ninety: 23 ninety_five: 26\n",
      "Level 4 players have attack average: 17 fifteen: 12 twenty-five: 14 seventy-five:19 ninety: 23 ninety_five: 26\n",
      "Level 5 players have attack average: 21 fifteen: 16 twenty-five: 18 seventy-five:23 ninety: 27 ninety_five: 30\n",
      "Level 6 players have attack average: 21 fifteen: 16 twenty-five: 18 seventy-five:23 ninety: 27 ninety_five: 30\n",
      "Level 7 players have attack average: 25 fifteen: 20 twenty-five: 22 seventy-five:27 ninety: 31 ninety_five: 34\n",
      "Level 8 players have attack average: 25 fifteen: 20 twenty-five: 22 seventy-five:27 ninety: 31 ninety_five: 34\n",
      "Level 9 players have attack average: 26 fifteen: 21 twenty-five: 23 seventy-five:28 ninety: 32 ninety_five: 35\n",
      "Level 10 players have attack average: 26 fifteen: 21 twenty-five: 23 seventy-five:28 ninety: 32 ninety_five: 35\n"
     ]
    }
   ],
   "source": [
    "def roll_stats(dice):\n",
    "    \"\"\"\n",
    "    Give the power of the average attack. THe bottom 10%, 25%, 75%, 90%, and 95% of attacks.\n",
    "    \n",
    "    Args: dice (list of dice)\n",
    "    \n",
    "    return (dict)\n",
    "    \"\"\"\n",
    "    iterations = 10000\n",
    "    total = 0\n",
    "    attack_values = []\n",
    "    for i in range(iterations):\n",
    "        attack = get_attack(dice, 0)\n",
    "        total += attack\n",
    "        attack_values.append(attack)\n",
    "    attack_values.sort()\n",
    "    stats = {\n",
    "        'avg': int(total / iterations),\n",
    "        'fifteen': attack_values[1000],\n",
    "        'twenty_five': attack_values[2500],\n",
    "        'seventy_five': attack_values[7500],\n",
    "        'ninety': attack_values[9000],\n",
    "        'ninety_five': attack_values[9500]\n",
    "    }\n",
    "    return stats\n",
    "\n",
    "def average_attack_power(dice):\n",
    "    roll = roll_stats(dice)\n",
    "    for level in range(1, 11):\n",
    "        bonus = PLAYER_ATTACK_BONUS[level]\n",
    "        average = roll['avg'] + bonus\n",
    "        fifteen = roll['fifteen'] + bonus\n",
    "        twenty_five = roll['twenty_five'] + bonus\n",
    "        seventy_five = roll['seventy_five'] + bonus\n",
    "        ninety = roll['ninety'] + bonus\n",
    "        ninety_five = roll['ninety_five'] + bonus\n",
    "        print(f'Level {level} players have attack average: {average} fifteen: {fifteen} twenty-five: {twenty_five} seventy-five:{seventy_five} ninety: {ninety} ninety_five: {ninety_five}')\n",
    "        \n",
    "average_attack_power(MARTIAL_ATTACK_DICE)"
   ]
  },
  {
   "cell_type": "code",
   "execution_count": null,
   "id": "historical-lotus",
   "metadata": {},
   "outputs": [],
   "source": [
    "def dict_by_level(items):\n",
    "    \"\"\"\n",
    "    Create a dictionary organized by level given a list of 10 elements.\n",
    "    \"\"\"\n",
    "    1: items[0],\n",
    "    2: items[1],\n",
    "    3: items[2],\n",
    "    4: items[3],\n",
    "    5: items[4],\n",
    "    6: items[5],\n",
    "    7: items[6],\n",
    "    8: items[7],\n",
    "    9: items[8],\n",
    "    10: items[9]\n",
    "\n",
    "MONSTER_ARMOR = dict_by_level([11, 12, 13, 14, 17, 18, 21, 22, 22, 24])\n",
    "\n",
    "# Health per player. Expect it to be about 1 / 3 of the average attack of a player.\n",
    "MONSTER_HEALTH = dict_by_level([11, 12, 13, 14, 17, 18, 21, 22, 22, 24])"
   ]
  },
  {
   "cell_type": "markdown",
   "id": "settled-acting",
   "metadata": {},
   "source": [
    "## Player Damage\n",
    "This is an attempt to calculate how much damage I expect the average player to do on the average turn. This extremely difficult to calculate because of the sheer number of variables. There is no one, for instance, to exactly measure the damage value of positioning and terrain. It is similarly difficult to calculate the value of utitly abilities, such as those of most ancestries.\n",
    "We will isntead intend to examine the damage benefit of select identity and specialty cards that enchance player abilities in melee combat. These will be used as a baseline to balance the other cards."
   ]
  },
  {
   "cell_type": "code",
   "execution_count": 35,
   "id": "developmental-fleece",
   "metadata": {},
   "outputs": [],
   "source": [
    "# These constants represent several assumptions being made\n",
    "\n",
    "# Factor to multiply an ability's damage by if it only happens once per period\n",
    "REST = 1/9\n",
    "BREAK = 1/6\n",
    "COMBAT = 1/3\n",
    "\n",
    "PRIMARY_STATS=[3, 4, 5, 5, 6, 6, 7, 7, 8, 8]\n",
    "SECONDARY_STATS=[3, 4, 4, 5, 5, 5, 6, 7, 7, 7]\n",
    "\n",
    "# Reactions and bonus actions are considered free for now\n",
    "# Double damage is considered a +4 bonus. Double damage with advantage +6"
   ]
  },
  {
   "cell_type": "code",
   "execution_count": 38,
   "id": "comprehensive-regard",
   "metadata": {},
   "outputs": [],
   "source": [
    "# Create a dict given a list of bonuses and attack multipliers for a power card to have\n",
    "def card(bonuses, attacks, advantage=False):\n",
    "    return {\n",
    "        1: {\n",
    "            bonus: bonuses[0],\n",
    "            attack: 1 + attacks[0],\n",
    "            advantage: advantage\n",
    "        },\n",
    "        2: {\n",
    "            bonus: bonuses[1],\n",
    "            attack: 1 + attacks[1],\n",
    "            advantage: advantage\n",
    "        }\n",
    "        3: {\n",
    "            bonus: bonuses[2],\n",
    "            attack: 1 + attacks[2],\n",
    "            advantage: advantage\n",
    "        }\n",
    "    }"
   ]
  },
  {
   "cell_type": "code",
   "execution_count": null,
   "id": "alive-evening",
   "metadata": {},
   "outputs": [],
   "source": [
    "# Bonuses to certain identity cards based on stars\n",
    "# Cards have \n",
    "BLADE_DANCER = card([3, 4, 4], [0, 0, BREAK * 3])\n",
    "DUELIST = card([0, 0, 4], [0, 2, 2], True)\n",
    "ASSASSIN = card([0, 0, 6], [0, 2 * COMBAT, 2 * COMBAT], True)\n",
    "# Figure out the advantage in damage of MUSCLEMAN attacks vs 1d10 + 1d4 and use that for bonus\n",
    "MUSCLEMAN = card([]"
   ]
  },
  {
   "cell_type": "code",
   "execution_count": null,
   "id": "developmental-terminal",
   "metadata": {},
   "outputs": [],
   "source": [
    "# def player_attack(damage_dice, level, advantage=False):\n",
    "#     total = 0\n",
    "#     iterations = 10000\n",
    "#     for i in range(iterations):\n",
    "#         total += get_attack(damage_dice, (level * 2.5) + 6)\n",
    "#     return total / iterations\n",
    "\n",
    "\n",
    "# def player_damage(damage_dice, level, advantage=False):\n",
    "#     total = 0\n",
    "#     iterations = 10000\n",
    "#     monster_armor = monster_armor_by_level[level]\n",
    "#     for i in range(iterations):\n",
    "#         attack = get_attack(damage_dice, (level * 2.5) + 6)\n",
    "#         if advantage:\n",
    "#             attack = max(attack, get_attack(damage_dice, bonus))\n",
    "#         total += max(0, attack - monster_armor)\n",
    "#     return total / iterations\n",
    "\n",
    "# def rounds_to_victory(level):\n",
    "#     damage_dice = player_damage_dice\n",
    "#     iterations = 10000\n",
    "#     total_rounds = 0\n",
    "#     attack_bonus = 6 + (level * 2.5)\n",
    "#     monster_armor = monster_armor_by_level[level]\n",
    "#     monster_health = monster_health_by_level[level] * 4\n",
    "#     for i in range(iterations):\n",
    "#         current_monster_health = monster_health\n",
    "#         rounds = 0\n",
    "#         while current_monster_health > 0:\n",
    "#             attack = get_attack(damage_dice, attack_bonus)\n",
    "#             damage = max(0, attack - monster_armor)\n",
    "#             current_monster_health -= damage\n",
    "#             rounds += .25\n",
    "#         total_rounds += rounds\n",
    "#     return total_rounds / iterations"
   ]
  },
  {
   "cell_type": "code",
   "execution_count": null,
   "id": "sublime-offering",
   "metadata": {},
   "outputs": [],
   "source": [
    "# # for level in range(1, 10):\n",
    "#     rounds = rounds_to_victory(level)\n",
    "#     damage = 6 + (level * 2.5)\n",
    "#     attack = player_attack(player_damage_dice, level)\n",
    "#     print(f'Players on average have attack: {attack} deal {damage} and win in {rounds}')"
   ]
  },
  {
   "cell_type": "code",
   "execution_count": null,
   "id": "caring-canberra",
   "metadata": {},
   "outputs": [],
   "source": [
    "# def average_roll(dice):\n",
    "#     iterations = 10000\n",
    "#     total = 0\n",
    "#     for i in range(iterations):\n",
    "#         total += get_attack(dice, 0)\n",
    "#     return total / iterations"
   ]
  },
  {
   "cell_type": "code",
   "execution_count": null,
   "id": "differential-donor",
   "metadata": {},
   "outputs": [],
   "source": [
    "# print(average_roll([dice(1, 12), dice(1, 8)]))\n",
    "# print(average_roll([dice(1, 12)]))\n",
    "# print(average_roll([dice(1, 10), dice(1, 4)]))\n",
    "# print(average_roll([dice(1, 8), dice(1, 4)]))\n",
    "# print(average_roll([dice(1, 10)]))\n",
    "# print(average_roll([dice(1, 10)]))\n",
    "# print(average_roll([dice(2, 10)]))"
   ]
  },
  {
   "cell_type": "code",
   "execution_count": null,
   "id": "excessive-montgomery",
   "metadata": {},
   "outputs": [],
   "source": []
  }
 ],
 "metadata": {
  "kernelspec": {
   "display_name": "Python 3",
   "language": "python",
   "name": "python3"
  },
  "language_info": {
   "codemirror_mode": {
    "name": "ipython",
    "version": 3
   },
   "file_extension": ".py",
   "mimetype": "text/x-python",
   "name": "python",
   "nbconvert_exporter": "python",
   "pygments_lexer": "ipython3",
   "version": "3.8.6"
  }
 },
 "nbformat": 4,
 "nbformat_minor": 5
}
