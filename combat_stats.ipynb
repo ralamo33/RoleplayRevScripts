{
 "cells": [
  {
   "cell_type": "markdown",
   "id": "fabulous-shape",
   "metadata": {},
   "source": [
    "# Combat stats\n",
    "This is to determine the average statistics for combat within the game. On average monsters should deal about 1/3 of the player's health in damage. They should instakill a player no more than 2% of the time.\n",
    "\n",
    "Monsters average stats are calculated using those advertised under Making Monsters. Players stats are calculated by a combination of what average stats would be, and expected equipment purchases (especially for armor)."
   ]
  },
  {
   "cell_type": "markdown",
   "id": "economic-publicity",
   "metadata": {},
   "source": [
    "## Set Averages\n",
    "The average stats for monsters and players by level."
   ]
  },
  {
   "cell_type": "code",
   "execution_count": 1,
   "id": "annual-banking",
   "metadata": {},
   "outputs": [],
   "source": [
    "def dice(rolls, sides):\n",
    "    return {\n",
    "        'rolls': rolls,\n",
    "        'sides': sides\n",
    "    }"
   ]
  },
  {
   "cell_type": "code",
   "execution_count": 2,
   "id": "confused-catalyst",
   "metadata": {},
   "outputs": [],
   "source": [
    "damage_dice_by_level = {\n",
    "    1: [dice(1, 8), dice(1, 6)],\n",
    "    2: [dice(2, 8)],\n",
    "    3: [dice(1, 10), dice(1, 8)],\n",
    "    4: [dice(2, 12), dice(1, 4)],\n",
    "    5: [dice(2, 12), dice(1, 8)],\n",
    "    6: [dice(1, 20), dice(2, 8)],\n",
    "    7: [dice(2, 20)],\n",
    "    8: [dice(2, 20), dice(1, 8)],\n",
    "    9: [dice(2, 20), dice(1, 12)],\n",
    "    10:[dice(3, 20)]\n",
    "    \n",
    "}\n",
    "\n",
    "player_damage_dice = [dice(1, 10), dice(1, 4)]\n",
    "\n",
    "attack_bonus_by_level = {\n",
    "    1: 4,\n",
    "    2: 4,\n",
    "    3: 5,\n",
    "    4: 7,\n",
    "    5: 7,\n",
    "    6: 9,\n",
    "    7: 12,\n",
    "    8: 12,\n",
    "    9: 13,\n",
    "    10: 14\n",
    "}"
   ]
  },
  {
   "cell_type": "code",
   "execution_count": 29,
   "id": "acting-lesbian",
   "metadata": {},
   "outputs": [],
   "source": [
    "monster_armor_by_level = {\n",
    "    1: 8,\n",
    "    2: 9,\n",
    "    3: 11,\n",
    "    4: 13,\n",
    "    5: 16,\n",
    "    6: 18,\n",
    "    7: 21,\n",
    "    8: 23,\n",
    "    9: 26,\n",
    "    10: 28\n",
    "}\n",
    "\n",
    "monster_health_by_level = {\n",
    "    1: 21,\n",
    "    2: 26,\n",
    "    3: 30,\n",
    "    4: 34,\n",
    "    5: 38,\n",
    "    6: 42,\n",
    "    7: 45,\n",
    "    8: 48,\n",
    "    9: 50,\n",
    "    10: 55\n",
    "}"
   ]
  },
  {
   "cell_type": "code",
   "execution_count": 25,
   "id": "scientific-washer",
   "metadata": {},
   "outputs": [],
   "source": [
    "def check_pos_int(values):\n",
    "    \"\"\"Check if a value is a positive integer\n",
    "    \n",
    "    Args:\n",
    "        values: (List) values to be checked for validity\n",
    "    \"\"\"\n",
    "    for value in values:\n",
    "        assert value >= 0, 'Value must be a nonnegative integer'\n",
    "\n",
    "check_pos_int([1, 2, 3])"
   ]
  },
  {
   "cell_type": "code",
   "execution_count": 4,
   "id": "occupied-stuff",
   "metadata": {},
   "outputs": [],
   "source": [
    "def player_health(level):\n",
    "    check_pos_int([level])\n",
    "    level_ups = level - 1\n",
    "    health = 15\n",
    "    health += level_ups * 3\n",
    "    health += 5 * int(level_ups / 3)\n",
    "    return health\n",
    "\n",
    "assert(player_health(1) == 15)\n",
    "assert(player_health(2) == 18)\n",
    "assert(player_health(4) == 29)\n",
    "assert(player_health(9) == 49)\n",
    "assert(player_health(10) == 57)"
   ]
  },
  {
   "cell_type": "code",
   "execution_count": 5,
   "id": "declared-stream",
   "metadata": {},
   "outputs": [],
   "source": [
    "def player_armor(level):\n",
    "    check_pos_int([level])\n",
    "    if level <= 3:\n",
    "        return 9\n",
    "    if level <= 5:\n",
    "        return 14\n",
    "    if level <= 6:\n",
    "        return 15\n",
    "    if level <= 7:\n",
    "        return 16\n",
    "    return 19\n",
    "    \n",
    "assert(player_armor(1) == 9)\n",
    "assert(player_armor(3) == 9)\n",
    "assert(player_armor(6) == 15)\n",
    "assert(player_armor(9) == 19)"
   ]
  },
  {
   "cell_type": "markdown",
   "id": "spectacular-copper",
   "metadata": {},
   "source": [
    "## Attack\n",
    "Functions needed to calculate the power of a monster attack."
   ]
  },
  {
   "cell_type": "code",
   "execution_count": 6,
   "id": "excited-colors",
   "metadata": {},
   "outputs": [],
   "source": [
    "import random\n",
    "\n",
    "def get_attack(damage_dice, bonus):\n",
    "    \"\"\" calculate the power of an attack\n",
    "    \n",
    "    Args:\n",
    "        damage_dice (list of damage_die): The dice to be rolled\n",
    "        bonus (int): The static bonus added to attacks     \n",
    "    \n",
    "    Return: (int) power of an attack\n",
    "    \"\"\"\n",
    "    check_pos_int([bonus])\n",
    "    total = 0\n",
    "    largest_maxed = 0\n",
    "    for damage_die in damage_dice:\n",
    "        sides = damage_die['sides']\n",
    "        for i in range(damage_die['rolls']):\n",
    "            roll = random.randint(1, sides)\n",
    "            total += roll\n",
    "            if roll == sides:\n",
    "                largest_maxed = max(largest_maxed, sides)\n",
    "    if largest_maxed > 0:\n",
    "       total += random.randint(1, largest_maxed) \n",
    "    return total + bonus\n",
    "\n",
    "for i in range (1000):\n",
    "    assert(get_attack([dice(1, 4)], 0) in range(1,9))\n",
    "    assert(get_attack([dice(2, 6)], 0) in range(2,25))\n",
    "    assert(get_attack([dice(1, 8)], 0) in range(1,17))\n",
    "    assert(get_attack([dice(2, 12)], 0) in range(2,49))"
   ]
  },
  {
   "cell_type": "code",
   "execution_count": 7,
   "id": "solar-solid",
   "metadata": {},
   "outputs": [],
   "source": [
    "def damage_percentage(attack, level):\n",
    "    \"\"\"Calculate the percentage of health lost\n",
    "    \n",
    "    Args:\n",
    "        All are positive ints\n",
    "        \n",
    "    Returns:\n",
    "        Health remaining after the attack\n",
    "    \"\"\"\n",
    "    check_pos_int([attack, level])\n",
    "    armor = player_armor(level)\n",
    "    health = player_health(level)\n",
    "    if attack <= armor:\n",
    "        return 0\n",
    "    damage = attack - armor\n",
    "    if damage >= health:\n",
    "        return 100\n",
    "    return (damage / health) * 100\n",
    "\n",
    "assert(damage_percentage(12, 1) == 20)\n",
    "assert(damage_percentage(18, 1) == 60)\n",
    "assert(damage_percentage(38, 5) == 75)\n",
    "assert(damage_percentage(42, 8) == 50)"
   ]
  },
  {
   "cell_type": "code",
   "execution_count": 8,
   "id": "capital-drunk",
   "metadata": {},
   "outputs": [],
   "source": [
    "def combat_stats(level):\n",
    "    '''\n",
    "    Calculate the stats of combat.\n",
    "    \n",
    "    Args:\n",
    "        Level (int)\n",
    "    \n",
    "    Return: (list of float) [average damage dealt, hits that one shotted player, misses]\n",
    "    '''\n",
    "    total_damage_percent = 0\n",
    "    instakills = 0\n",
    "    missed = 0\n",
    "    iterations = 100000\n",
    "    for i in range(iterations):\n",
    "        attack = get_attack(damage_dice_by_level[level],\n",
    "                       attack_bonus_by_level[level])\n",
    "        damage_percent = damage_percentage(attack, level)\n",
    "        total_damage_percent += damage_percent\n",
    "        if damage_percent == 100:\n",
    "            instakills += 1\n",
    "        elif damage_percent == 0:\n",
    "            missed += 1\n",
    "    stats = [total_damage_percent, instakills, missed]\n",
    "    return [stat / iterations for stat in stats]"
   ]
  },
  {
   "cell_type": "code",
   "execution_count": 9,
   "id": "standard-stations",
   "metadata": {
    "scrolled": true
   },
   "outputs": [
    {
     "name": "stdout",
     "output_type": "stream",
     "text": [
      "[28.541533333333025, 0.01583, 0.20788]\n",
      "[29.029555555548864, 0.00864, 0.15591]\n",
      "[33.71114285714642, 0.01396, 0.07479]\n",
      "[34.729448275865884, 0.00744, 0.05457]\n",
      "[37.6198125, 0.00638, 0.03052]\n",
      "[42.7344571428573, 0.02383, 0.01594]\n",
      "[41.56674418604275, 0.02422, 0.01494]\n",
      "[43.46950000000254, 0.02027, 0.01068]\n",
      "[46.701265306124846, 0.02257, 0.00412]\n",
      "[48.9167894736816, 0.02122, 0.00135]\n"
     ]
    }
   ],
   "source": [
    "for level in range(1, 11):\n",
    "    print(combat_stats(level))"
   ]
  },
  {
   "cell_type": "markdown",
   "id": "underlying-surrey",
   "metadata": {},
   "source": [
    "## Player Damage"
   ]
  },
  {
   "cell_type": "code",
   "execution_count": 40,
   "id": "developmental-terminal",
   "metadata": {},
   "outputs": [],
   "source": [
    "def player_attack(damage_dice, level, advantage=False):\n",
    "    total = 0\n",
    "    iterations = 10000\n",
    "    for i in range(iterations):\n",
    "        total += get_attack(damage_dice, (level * 2.5) + 6)\n",
    "    return total / iterations\n",
    "\n",
    "\n",
    "def player_damage(damage_dice, level, advantage=False):\n",
    "    total = 0\n",
    "    iterations = 10000\n",
    "    monster_armor = monster_armor_by_level[level]\n",
    "    for i in range(iterations):\n",
    "        attack = get_attack(damage_dice, (level * 2.5) + 6)\n",
    "        if advantage:\n",
    "            attack = max(attack, get_attack(damage_dice, bonus))\n",
    "        total += max(0, attack - monster_armor)\n",
    "    return total / iterations\n",
    "\n",
    "def rounds_to_victory(level):\n",
    "    damage_dice = player_damage_dice\n",
    "    iterations = 10000\n",
    "    total_rounds = 0\n",
    "    attack_bonus = 6 + (level * 2.5)\n",
    "    monster_armor = monster_armor_by_level[level]\n",
    "    monster_health = monster_health_by_level[level] * 4\n",
    "    for i in range(iterations):\n",
    "        current_monster_health = monster_health\n",
    "        rounds = 0\n",
    "        while current_monster_health > 0:\n",
    "            attack = get_attack(damage_dice, attack_bonus)\n",
    "            damage = max(0, attack - monster_armor)\n",
    "            current_monster_health -= damage\n",
    "            rounds += .25\n",
    "        total_rounds += rounds\n",
    "    return total_rounds / iterations"
   ]
  },
  {
   "cell_type": "code",
   "execution_count": 41,
   "id": "sublime-offering",
   "metadata": {},
   "outputs": [
    {
     "name": "stdout",
     "output_type": "stream",
     "text": [
      "Players on average have attack: 17.6188 deal 8.5 and win in 2.329175\n",
      "Players on average have attack: 20.1242 deal 11.0 and win in 2.47475\n",
      "Players on average have attack: 22.6012 deal 13.5 and win in 2.72025\n",
      "Players on average have attack: 25.1135 deal 16.0 and win in 2.934525\n",
      "Players on average have attack: 27.6136 deal 18.5 and win in 3.415425\n",
      "Players on average have attack: 30.1032 deal 21.0 and win in 3.5937\n",
      "Players on average have attack: 32.6453 deal 23.5 and win in 4.017575\n",
      "Players on average have attack: 35.0405 deal 26.0 and win in 4.0928\n",
      "Players on average have attack: 37.651 deal 28.5 and win in 4.4375\n"
     ]
    }
   ],
   "source": [
    "for level in range(1, 10):\n",
    "    rounds = rounds_to_victory(level)\n",
    "    damage = 6 + (level * 2.5)\n",
    "    attack = player_attack(player_damage_dice, level)\n",
    "    print(f'Players on average have attack: {attack} deal {damage} and win in {rounds}')"
   ]
  },
  {
   "cell_type": "code",
   "execution_count": 44,
   "id": "caring-canberra",
   "metadata": {},
   "outputs": [],
   "source": [
    "def average_roll(dice):\n",
    "    iterations = 10000\n",
    "    total = 0\n",
    "    for i in range(iterations):\n",
    "        total += get_attack(dice, 0)\n",
    "    return total / iterations"
   ]
  },
  {
   "cell_type": "code",
   "execution_count": 48,
   "id": "differential-donor",
   "metadata": {},
   "outputs": [
    {
     "name": "stdout",
     "output_type": "stream",
     "text": [
      "12.0736\n",
      "7.0638\n",
      "9.1061\n",
      "8.0891\n",
      "6.0782\n",
      "5.9838\n",
      "11.9675\n"
     ]
    }
   ],
   "source": [
    "print(average_roll([dice(1, 12), dice(1, 8)]))\n",
    "print(average_roll([dice(1, 12)]))\n",
    "print(average_roll([dice(1, 10), dice(1, 4)]))\n",
    "print(average_roll([dice(1, 8), dice(1, 4)]))\n",
    "print(average_roll([dice(1, 10)]))\n",
    "print(average_roll([dice(1, 10)]))\n",
    "print(average_roll([dice(2, 10)]))"
   ]
  },
  {
   "cell_type": "code",
   "execution_count": null,
   "id": "excessive-montgomery",
   "metadata": {},
   "outputs": [],
   "source": []
  }
 ],
 "metadata": {
  "kernelspec": {
   "display_name": "Python 3",
   "language": "python",
   "name": "python3"
  },
  "language_info": {
   "codemirror_mode": {
    "name": "ipython",
    "version": 3
   },
   "file_extension": ".py",
   "mimetype": "text/x-python",
   "name": "python",
   "nbconvert_exporter": "python",
   "pygments_lexer": "ipython3",
   "version": "3.8.6"
  }
 },
 "nbformat": 4,
 "nbformat_minor": 5
}
